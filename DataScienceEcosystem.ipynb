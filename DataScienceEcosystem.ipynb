{
 "cells": [
  {
   "cell_type": "markdown",
   "id": "91ad14cf-6a8b-4c7a-ad2f-c32129cfb5c7",
   "metadata": {},
   "source": [
    "# Data Science Tools and Ecosystem"
   ]
  },
  {
   "cell_type": "markdown",
   "id": "4d90178d-5554-47eb-a7b0-55de24818631",
   "metadata": {},
   "source": [
    "In this notebook, Data Science Tools and Ecosystem are summarized."
   ]
  },
  {
   "cell_type": "markdown",
   "id": "a9393049-5dd0-49f7-b798-ec6e28f19990",
   "metadata": {},
   "source": [
    "Some of the popular languages that Data Scientists use are:\n",
    "1. Python\n",
    "2. R\n",
    "3. SQL"
   ]
  },
  {
   "cell_type": "markdown",
   "id": "d099bcc9-f7bf-468f-9f49-8d1d2a9c47cd",
   "metadata": {},
   "source": [
    "Some of the commonly used libraries used by Data Scientists include:\r\n",
    "\r\n",
    "1. **NumPy**: Fundamental library for numerical computations and handling multi-dimensional arrays.\r\n",
    "2. **Pandas**: Essential for data manipulation and analysis, providing data structures like DataFrames.\r\n",
    "3. **Matplotlib**: Popular for data visualization, creating static, animated, and interactive plots.\r\n",
    "4. **Scikit-learn**: A powerful toolkit for machine learning with tools for classification, regression, and clustering.\r\n",
    "5. **TensorFlow**: An open-source framework for building and deploying machine learning and deep learning models.s populares.s populares.rning mos populares."
   ]
  },
  {
   "cell_type": "markdown",
   "id": "69da753d-7ad4-44a6-b513-9508be0f44e5",
   "metadata": {},
   "source": [
    "| Data Science Tools           |\r\n",
    "|------------------------------|\r\n",
    "| Jupyter Notebooks             |\r\n",
    "| RStudio                       |\r\n",
    "| Apache Zeppelin               |\r\n",
    "| Spyder                        |\r\n",
    "a de datos."
   ]
  },
  {
   "cell_type": "markdown",
   "id": "e5d7e1b5-27d9-46e0-b38e-39943bd950b3",
   "metadata": {
    "scrolled": true
   },
   "source": [
    "### Below are a few examples of evaluating arithmetic expressions in Python."
   ]
  },
  {
   "cell_type": "code",
   "execution_count": 28,
   "id": "3b836f52-dad8-4f40-882b-f96909d86c44",
   "metadata": {},
   "outputs": [
    {
     "data": {
      "text/plain": [
       "17"
      ]
     },
     "execution_count": 28,
     "metadata": {},
     "output_type": "execute_result"
    }
   ],
   "source": [
    "# This is a simple arithmetic expression to multiply then add integers\n",
    "(3 * 4) + 5"
   ]
  },
  {
   "cell_type": "code",
   "execution_count": 30,
   "id": "834cf793-50d4-46eb-8f80-a1a48ba1113b",
   "metadata": {},
   "outputs": [
    {
     "data": {
      "text/plain": [
       "3.3333333333333335"
      ]
     },
     "execution_count": 30,
     "metadata": {},
     "output_type": "execute_result"
    }
   ],
   "source": [
    "# This will convert 200 minutes to hours by dividing by 60\n",
    "200 / 60"
   ]
  },
  {
   "cell_type": "markdown",
   "id": "5b475b85-e454-41f2-8026-a13305e73652",
   "metadata": {},
   "source": [
    "**Objectives:**\n",
    "\n",
    "- List popular languages for Data Science.\n",
    "- Identify commonly used libraries in Data Science.\n",
    "- Demonstrate basic arithmetic operations in Python.\n",
    "- Convert units (e.g., minutes to hours) using Python.\n",
    "- Explore common tools used in Data Science environments."
   ]
  },
  {
   "cell_type": "markdown",
   "id": "42a81fb9-25c3-4ec3-87cb-5499db1f803b",
   "metadata": {},
   "source": [
    "## Author\n",
    "\n",
    "Erik Jara"
   ]
  },
  {
   "cell_type": "code",
   "execution_count": null,
   "id": "037705b5-ae10-46f5-a9ad-14f8a15c992a",
   "metadata": {},
   "outputs": [],
   "source": []
  }
 ],
 "metadata": {
  "kernelspec": {
   "display_name": "Python 3 (ipykernel)",
   "language": "python",
   "name": "python3"
  },
  "language_info": {
   "codemirror_mode": {
    "name": "ipython",
    "version": 3
   },
   "file_extension": ".py",
   "mimetype": "text/x-python",
   "name": "python",
   "nbconvert_exporter": "python",
   "pygments_lexer": "ipython3",
   "version": "3.12.4"
  }
 },
 "nbformat": 4,
 "nbformat_minor": 5
}
